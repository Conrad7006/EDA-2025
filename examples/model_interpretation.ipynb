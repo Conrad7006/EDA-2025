{
 "cells": [
  {
   "attachments": {},
   "cell_type": "markdown",
   "metadata": {},
   "source": [
    "# Model interpretation\n",
    "Example use case of model interpretation:\n",
    "- Clustering (find important clusters)\n",
    "- Classification (build model to predict cluster membership)\n",
    "- Interpretation of clusters (identify variables associated with cluster membership)\n",
    "\n",
    "Other model interpretation applications:\n",
    "- Regression models\n",
    "- Other classification models"
   ]
  },
  {
   "cell_type": "markdown",
   "metadata": {},
   "source": [
    "**Dataset used**\n",
    "- iof_data.csv"
   ]
  },
  {
   "cell_type": "code",
   "execution_count": null,
   "metadata": {},
   "outputs": [],
   "source": [
    "# Data links\n",
    "data_url = {\n",
    "    'iof_data_1min_csv' : \"https://drive.google.com/uc?id=1_jYVXj7mt8Zzpjn8WGI111G-kWRTbfjU\",\n",
    "    'iof_data_1min_parq' : \"https://drive.google.com/uc?id=1j5SS136UzbSPu8TqG9RRUMi6-wWF9dzq\",\n",
    "    'mixingTank' :  \"https://drive.google.com/uc?id=1b5Qn5LIa6KAE03Tq4yRVdhTyUmZLxRjt\",\n",
    "    'moons' : \"https://drive.google.com/uc?id=1a9zTkPEpuHGj6LzGzuLe-JSLg_4GJef4\",\n",
    "    'open_iof_20min' : \"https://drive.google.com/uc?id=15lkhdBfWnjlpgpEx4T2XcRApKr-dmBb0\",\n",
    "    'open_iof_cleaned' : \"https://drive.google.com/uc?id=1WVbJvYsGy-iKlsW4WaDZrKy_NhK2tJLW\",\n",
    "}"
   ]
  },
  {
   "cell_type": "code",
   "execution_count": null,
   "metadata": {},
   "outputs": [],
   "source": [
    "# Import packages\n",
    "import pandas as pd\n",
    "import numpy as np\n",
    "import matplotlib.pyplot as plt\n",
    "import seaborn as sns\n",
    "# Preprocessing\n",
    "from sklearn.preprocessing import StandardScaler\n",
    "from sklearn.decomposition import PCA\n",
    "# Clustering\n",
    "from sklearn.cluster import MiniBatchKMeans\n",
    "# Classification\n",
    "from sklearn.linear_model import LogisticRegression\n",
    "from sklearn.tree import DecisionTreeClassifier\n",
    "from sklearn.ensemble import RandomForestClassifier\n",
    "from sklearn.metrics import accuracy_score\n",
    "# Interpretation   \n",
    "from sklearn.tree import plot_tree       \n",
    "from sklearn.inspection import permutation_importance, PartialDependenceDisplay   "
   ]
  },
  {
   "cell_type": "code",
   "execution_count": null,
   "metadata": {},
   "outputs": [],
   "source": [
    "# Import data set\n",
    "fname = data_url['iof_data_1min_csv']\n",
    "date_col = 'date'\n",
    "df = pd.read_csv(fname,index_col=date_col,parse_dates=[date_col])"
   ]
  },
  {
   "cell_type": "code",
   "execution_count": null,
   "metadata": {},
   "outputs": [],
   "source": [
    "# Downsample\n",
    "df = df.resample('3h').median()\n",
    "df.dropna(inplace=True)"
   ]
  },
  {
   "cell_type": "code",
   "execution_count": null,
   "metadata": {},
   "outputs": [],
   "source": [
    "# Summary statistics\n",
    "df.describe().T"
   ]
  },
  {
   "cell_type": "code",
   "execution_count": null,
   "metadata": {},
   "outputs": [],
   "source": [
    "# Variable of interest: Product silica composition\n",
    "df[\"plant.filters.product.silica.comp\"].resample('24h').median().plot()"
   ]
  },
  {
   "cell_type": "code",
   "execution_count": null,
   "metadata": {},
   "outputs": [],
   "source": [
    "# Prepare data\n",
    "input_keys = list(df.columns)\n",
    "input_keys.remove('plant.filters.product.silica.comp')\n",
    "input_keys.remove('plant.filters.product.iron.comp')\n",
    "X = df[input_keys].copy()"
   ]
  },
  {
   "cell_type": "code",
   "execution_count": null,
   "metadata": {},
   "outputs": [],
   "source": [
    "# Scale input data\n",
    "sx = StandardScaler()\n",
    "X = sx.fit_transform(X)"
   ]
  },
  {
   "cell_type": "code",
   "execution_count": null,
   "metadata": {},
   "outputs": [],
   "source": [
    "# Dimension reduction of input data\n",
    "pca = PCA(n_components=2)\n",
    "T = pca.fit_transform(X)\n",
    "df['PC1'] = T[:,0]\n",
    "df['PC2'] = T[:,1]"
   ]
  },
  {
   "cell_type": "code",
   "execution_count": null,
   "metadata": {},
   "outputs": [],
   "source": [
    "# Clustering\n",
    "n_clusters = 3\n",
    "c = MiniBatchKMeans(n_clusters=n_clusters)\n",
    "c.fit(T)\n",
    "df['cluster'] = c.labels_"
   ]
  },
  {
   "cell_type": "code",
   "execution_count": null,
   "metadata": {},
   "outputs": [],
   "source": [
    "# Cluster visualization\n",
    "fig, ax = plt.subplots()\n",
    "sns.scatterplot(data=df,x='PC1',y='PC2',hue='cluster',ax=ax, palette='viridis')"
   ]
  },
  {
   "cell_type": "code",
   "execution_count": null,
   "metadata": {},
   "outputs": [],
   "source": [
    "# Cluster statistics\n",
    "df.groupby('cluster').mean().T"
   ]
  },
  {
   "cell_type": "code",
   "execution_count": null,
   "metadata": {},
   "outputs": [],
   "source": [
    "# Cluster dataframe\n",
    "Y = df['cluster'].copy()"
   ]
  },
  {
   "cell_type": "code",
   "execution_count": null,
   "metadata": {},
   "outputs": [],
   "source": [
    "# Train logistic regression model\n",
    "lr = LogisticRegression()\n",
    "lr.fit(X,Y)"
   ]
  },
  {
   "cell_type": "code",
   "execution_count": null,
   "metadata": {},
   "outputs": [],
   "source": [
    "# Train decision tree model\n",
    "t = DecisionTreeClassifier(max_depth=3)\n",
    "t.fit(X,Y)"
   ]
  },
  {
   "cell_type": "code",
   "execution_count": null,
   "metadata": {},
   "outputs": [],
   "source": [
    "# Train random forest model\n",
    "n_trees = 50\n",
    "rf = RandomForestClassifier(n_estimators=n_trees)\n",
    "rf.fit(X,Y)"
   ]
  },
  {
   "cell_type": "code",
   "execution_count": null,
   "metadata": {},
   "outputs": [],
   "source": [
    "# Predict output variable \n",
    "Ypred_lr = lr.predict(X)\n",
    "Ypred_t = t.predict(X)\n",
    "Ypred_rf = rf.predict(X)"
   ]
  },
  {
   "cell_type": "code",
   "execution_count": null,
   "metadata": {},
   "outputs": [],
   "source": [
    "# Inspect model performance\n",
    "# - Accuracy\n",
    "acc_lr = accuracy_score(Y,Ypred_lr)\n",
    "acc_t = accuracy_score(Y,Ypred_t)\n",
    "acc_rf = accuracy_score(Y,Ypred_rf)\n",
    "\n",
    "print(f'Accuracy of logistic regression: {acc_lr:.4f}')\n",
    "print(f'Accuracy of tree: {acc_lr:.4f}')\n",
    "print(f'Accuracy of random forest: {acc_lr:.4f}')\n"
   ]
  },
  {
   "cell_type": "code",
   "execution_count": null,
   "metadata": {},
   "outputs": [],
   "source": [
    "# Logistic regression coefficients\n",
    "lr_coef = pd.DataFrame(lr.coef_,columns=input_keys).T\n",
    "lr_coef.index.name = 'Coefficient'\n",
    "lr_coef"
   ]
  },
  {
   "cell_type": "code",
   "execution_count": null,
   "metadata": {},
   "outputs": [],
   "source": [
    "# Decision tree visualization\n",
    "fig, ax = plt.subplots(figsize=(12,12))\n",
    "_ = plot_tree(\n",
    "    t,\n",
    "    feature_names=input_keys,\n",
    "    class_names=[\"low silica\",\"high silica\",\"medium silica\"], # cluster labels, in ascending numerical order - UPDATE on each reclustering!\n",
    "    filled=True,\n",
    "    fontsize=6\n",
    ")"
   ]
  },
  {
   "cell_type": "code",
   "execution_count": null,
   "metadata": {},
   "outputs": [],
   "source": [
    "# Random forest variable importance\n",
    "rfVIresult = permutation_importance(rf,X,Y,n_repeats=10)\n",
    "rfVImean = pd.Series(rfVIresult.importances_mean,index=df[input_keys].columns)\n",
    "fig, ax = plt.subplots()\n",
    "rfVImean.plot.bar(yerr=rfVIresult.importances_std,ax=ax)\n",
    "ax.set_title('Permutation variable importance for random forest')\n",
    "ax.set_ylabel('Mean accuracy decrease')"
   ]
  },
  {
   "cell_type": "code",
   "execution_count": null,
   "metadata": {},
   "outputs": [],
   "source": [
    "# Random forest partial dependence\n",
    "fig, ax = plt.subplots(figsize=(15,5))\n",
    "x1 = 'plant.flotation.bank01.column05.pulp.level'\n",
    "x2 = 'plant.flotation.sump01.amina.flow'\n",
    "PartialDependenceDisplay.from_estimator(\n",
    "    estimator = rf,\n",
    "    X = X,\n",
    "    target=0, # class label to display partial dependence for - UPDATE on each reclustering!\n",
    "    features = [x1,[x1,x2]],\n",
    "    feature_names=input_keys,\n",
    "    ax=ax\n",
    ")\n",
    "fig.suptitle('Random forest: Partial Dependence')"
   ]
  }
 ],
 "metadata": {
  "kernelspec": {
   "display_name": "rbm_dape",
   "language": "python",
   "name": "python3"
  },
  "language_info": {
   "codemirror_mode": {
    "name": "ipython",
    "version": 3
   },
   "file_extension": ".py",
   "mimetype": "text/x-python",
   "name": "python",
   "nbconvert_exporter": "python",
   "pygments_lexer": "ipython3",
   "version": "3.13.2"
  }
 },
 "nbformat": 4,
 "nbformat_minor": 2
}
