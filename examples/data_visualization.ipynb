{
 "cells": [
  {
   "cell_type": "markdown",
   "metadata": {},
   "source": [
    "# Data visualization\n",
    "- [Time-related behaviour: Time series](#time-related-behaviour-time-series)\n",
    "- [Time-related behaviour: Heat maps](#time-related-behaviour-heat-maps)\n",
    "- [Distribution behaviour: Histograms](#distribution-behaviour-histograms)\n",
    "- [Distribution behaviour: Box plots](#distribution-behaviour-box-plots)\n",
    "- [Relational behaviour: Scatter plots](#relational-behaviour-scatter-plot)\n",
    "- [Relational behaviour: Pair plots](#relational-behaviour-pair-plots)\n",
    "- [Relational behaviour: Correlation plots](#relational-behaviour-correlation-plots)"
   ]
  },
  {
   "cell_type": "markdown",
   "metadata": {},
   "source": [
    "**Dataset used**\n",
    "- iof_data.csv"
   ]
  },
  {
   "cell_type": "code",
   "execution_count": null,
   "metadata": {},
   "outputs": [],
   "source": [
    "# Data links\n",
    "data_url = {\n",
    "    'iof_data_1min_csv' : \"https://drive.google.com/uc?id=1_jYVXj7mt8Zzpjn8WGI111G-kWRTbfjU\",\n",
    "    'iof_data_1min_parq' : \"https://drive.google.com/uc?id=1j5SS136UzbSPu8TqG9RRUMi6-wWF9dzq\",\n",
    "    'mixingTank' :  \"https://drive.google.com/uc?id=1b5Qn5LIa6KAE03Tq4yRVdhTyUmZLxRjt\",\n",
    "    'moons' : \"https://drive.google.com/uc?id=1a9zTkPEpuHGj6LzGzuLe-JSLg_4GJef4\",\n",
    "    'open_iof_20min' : \"https://drive.google.com/uc?id=15lkhdBfWnjlpgpEx4T2XcRApKr-dmBb0\",\n",
    "    'open_iof_cleaned' : \"https://drive.google.com/uc?id=1WVbJvYsGy-iKlsW4WaDZrKy_NhK2tJLW\",\n",
    "}"
   ]
  },
  {
   "cell_type": "code",
   "execution_count": null,
   "metadata": {},
   "outputs": [],
   "source": [
    "# Import approriate packages and assign with shorthand codes\n",
    "import pandas as pd # pandas: for data ingestion and manipulation\n",
    "import numpy as np # numpy: for mathematical and algebraic manipulation\n",
    "import seaborn as sns # seaborn: for advanced plotting\n",
    "import matplotlib.pyplot as plt # matplotlib.pyplot: for general plotting\n",
    "import matplotlib.dates as mdates # matplotlib.dates: for adding dates to plots\n",
    "from scipy.stats import zscore # function for scaled heatmap"
   ]
  },
  {
   "cell_type": "code",
   "execution_count": null,
   "metadata": {},
   "outputs": [],
   "source": [
    "# Import data set\n",
    "fname = data_url['iof_data_1min_csv']\n",
    "date_col = 'date'\n",
    "df = pd.read_csv(fname,index_col=date_col,parse_dates=[date_col])"
   ]
  },
  {
   "cell_type": "code",
   "execution_count": null,
   "metadata": {},
   "outputs": [],
   "source": [
    "# Summary statistics\n",
    "df.describe().T"
   ]
  },
  {
   "cell_type": "markdown",
   "metadata": {},
   "source": [
    "# Time-related behaviour: Time series"
   ]
  },
  {
   "cell_type": "code",
   "execution_count": null,
   "metadata": {},
   "outputs": [],
   "source": [
    "# Time series plot example\n",
    "\n",
    "# Create axis\n",
    "fig, ax = plt.subplots(figsize=(10,5))\n",
    "# - fig = figure object that contains canvas with axes inside\n",
    "# - ax = axes object that represents single axes for plotting \n",
    "\n",
    "# Plot time series\n",
    "# - Line arguments:\n",
    "# alpha: transparancy i.e., 0 for fully transparent, 1 for fully opague\n",
    "# ls / linestyle: i.e., '-' for solid, '--' for dashed, ':' for dotted\n",
    "# lw / linewidth: e.g., 0.5 for thin, 2 for thick (continuous)\n",
    "# color: line colour e.g. nome of colour 'blue', or RGB value [0,0,1] and other formats\n",
    "# marker: marker style i.e., 'o', 'v', '^', 's'\n",
    "# mec / markeredgecolor: colour specified as above\n",
    "# mfc / markerfacecolor: colour specified as above\n",
    "# ms / markersize: colour specified as above\n",
    "# label: name of line to be used in legend\n",
    "ax.plot(df['plant.flotation.sump01.amina.flow'],\n",
    "        alpha=0.1, ls='none',\n",
    "        marker='o',mec='blue',mfc='white',ms=1,\n",
    "        label='Amina Flow [m3/h]')\n",
    "ax.plot(df['plant.flotation.sump01.amina.flow'].rolling('12h').median(),\n",
    "        ls = '-', lw=2, color=[0,0,0],\n",
    "        label='Amina Flow [m3/h] - Rolling 1h median')\n",
    "ax.set_xlabel('Time')\n",
    "ax.set_ylabel('Amina Flow [m3/h]')\n",
    "ax.set_title('Time series plot of amina flow')\n",
    "ax.grid(True) # adds grid lines\n",
    "ax.legend(loc='lower left') # adds legend at specific location\n",
    "\n",
    "# Apply date formatting convention\n",
    "# - define data format\n",
    "ax.xaxis.set_major_formatter(mdates.DateFormatter('%y-%m-%d %H'))\n",
    "# - automatic rotation of tick labels to prevent overlapping\n",
    "fig.autofmt_xdate()\n",
    "\n",
    "# Save figure\n",
    "fig.savefig('my_time_series.png',dpi=300) #dpi = dots per inch"
   ]
  },
  {
   "cell_type": "markdown",
   "metadata": {},
   "source": [
    "Large process datasets (many observations/rows) often results in very crowded plots due to the large number of points, and the high level of noise. To create clearer plots, options include:\n",
    "- Focus on a smaller period of interest (e.g., a few weeks), limiting the number of observations to around 10000\n",
    "- Downsample the observations to a longer sampling frequency (e.g., from per minute values to hourly or Downsampled values)"
   ]
  },
  {
   "cell_type": "code",
   "execution_count": null,
   "metadata": {},
   "outputs": [],
   "source": [
    "# Time series plot example: smaller period of interest\n",
    "\n",
    "# Create axis\n",
    "fig, ax = plt.subplots(figsize=(10,5))\n",
    "\n",
    "# Plot time series\n",
    "ax.plot(df.loc[df.index.month==5,'plant.flotation.sump01.amina.flow'], # subset data to May\n",
    "        alpha=0.2,\n",
    "        ls = 'none',\n",
    "        marker='o',mec='blue',mfc='white',ms=1,\n",
    "        label='Amina Flow [m3/h]')\n",
    "ax.set_xlabel('Time')\n",
    "ax.set_ylabel('Amina Flow [m3/h]')\n",
    "ax.set_title('Time series plot of amina flow: May 2017')\n",
    "ax.grid(True) # adds grid lines\n",
    "ax.legend(loc='lower left') # adds legend at specific location\n",
    "\n",
    "# Apply date formatting convention\n",
    "ax.xaxis.set_major_formatter(mdates.DateFormatter('%y-%m-%d %H'))\n",
    "fig.autofmt_xdate()"
   ]
  },
  {
   "cell_type": "code",
   "execution_count": null,
   "metadata": {},
   "outputs": [],
   "source": [
    "# Downsample DataFrame \n",
    "downsample_df = df.resample('2h').median()\n",
    "downsample_df.describe().T"
   ]
  },
  {
   "cell_type": "code",
   "execution_count": null,
   "metadata": {},
   "outputs": [],
   "source": [
    "# Time series plot example: downsampled data\n",
    "\n",
    "# Create axis\n",
    "fig, ax = plt.subplots(figsize=(10,5))\n",
    "\n",
    "# Plot time series\n",
    "ax.plot(downsample_df['plant.flotation.sump01.amina.flow'],\n",
    "        ls='none',\n",
    "        marker='o',mec='blue',mfc='white',ms=1,\n",
    "        label='Amina Flow [m3/h] - Downsampled (median)')\n",
    "# Annotations\n",
    "ax.set_xlabel('Time')\n",
    "ax.set_ylabel('Amina Flow [m3/h]')\n",
    "ax.set_title('Time series plot of amina flow: Downsampled')\n",
    "ax.grid(True) # adds grid lines\n",
    "ax.legend(loc='lower left') # adds legend at specific location\n",
    "\n",
    "# Apply date formatting convention\n",
    "ax.xaxis.set_major_formatter(mdates.DateFormatter('%y-%m-%d %H'))\n",
    "fig.autofmt_xdate()"
   ]
  },
  {
   "cell_type": "code",
   "execution_count": null,
   "metadata": {},
   "outputs": [],
   "source": [
    "# Time series plot: Two different y-axes\n",
    "# Create axis\n",
    "fig, ax = plt.subplots(figsize=(10,5))\n",
    "\n",
    "# Apply date formatting convention\n",
    "ax.xaxis.set_major_formatter(mdates.DateFormatter('%y-%m-%d %H'))\n",
    "fig.autofmt_xdate()\n",
    "\n",
    "# Plot time series: First set\n",
    "ax.plot(downsample_df['plant.flotation.sump01.amina.flow'],color='black',alpha=0.2,label='Amina Flow [m3/h] - Downsampled Median')\n",
    "\n",
    "# Plot time series: Second set\n",
    "ax2 = ax.twinx() # creates a second axes 'ax2' that shares the same x-axis as 'ax'\n",
    "ax2.plot(downsample_df['plant.flotation.sump01.starch.flow'],color='red',alpha=0.2,label='Starch Flow [m3/h] - Downsampled Median')\n",
    "\n",
    "# Annotations\n",
    "ax.set_xlabel('Time')\n",
    "ax.set_ylabel('Amina Flow [m3/h]')\n",
    "ax.set_title('Time series plot of amina and starch flows')\n",
    "ax.legend(loc='lower left')\n",
    "\n",
    "ax2.set_ylabel('Starch Flow [m/3h]')\n",
    "ax2.legend(loc='upper right')\n",
    "ax2.yaxis.label.set_color('red')\n",
    "ax2.tick_params(axis='y', colors='red')\n",
    "\n",
    "# Notice that you have to add legends separately for 'ax' and 'ax2'\n"
   ]
  },
  {
   "cell_type": "code",
   "execution_count": null,
   "metadata": {},
   "outputs": [],
   "source": [
    "## Time series plot (continued)\n",
    "# Create axis\n",
    "fig, ax = plt.subplots()\n",
    "# Apply date formatting convention\n",
    "ax.xaxis.set_major_formatter(mdates.DateFormatter('%m-%d %H:%M'))\n",
    "fig.autofmt_xdate()\n",
    "# Plot time series\n",
    "ax.plot(downsample_df['plant.flotation.sump01.amina.flow'],color=\"black\",alpha=0.2,label='Amina Flow [m3/h] - Downsampled Median')\n",
    "# Add colouring for different time periods\n",
    "p1start = '2017-03-11 01:00:00'\n",
    "p1end = '2017-03-15 11:00:00'\n",
    "p2start = '2017-04-01 12:00:00'\n",
    "p2end = '2017-05-02 22:00:00'\n",
    "p3start = '2017-08-01 00:30:00'\n",
    "p3end = '2017-09-01 04:30:00'\n",
    "plt.axvspan(xmin=p1start,xmax=p1end,alpha=0.2,color=\"blue\",label=\"Period 1\")\n",
    "plt.axvspan(xmin=p2start,xmax=p2end,alpha=0.2,color=\"orange\",label=\"Period 2\")\n",
    "plt.axvspan(xmin=p3start,xmax=p3end,alpha=0.2,color=\"green\",label=\"Period 3\")\n",
    "plt.legend(loc='lower left')"
   ]
  },
  {
   "cell_type": "code",
   "execution_count": null,
   "metadata": {},
   "outputs": [],
   "source": [
    "## Variable group of interest\n",
    "feed_variables = [\n",
    "    'plant.flotation.sump01.starch.flow',\n",
    "    'plant.flotation.sump01.amina.flow',\n",
    "    'plant.flotation.sump01.discharge.flow',\n",
    "    'plant.flotation.sump01.discharge.ph',\n",
    "    'plant.flotation.sump01.discharge.density']"
   ]
  },
  {
   "cell_type": "code",
   "execution_count": null,
   "metadata": {},
   "outputs": [],
   "source": [
    "## Time series plots (continued)\n",
    "# Create subplot axes with five rows and one column for plotting feed variables\n",
    "fig, ax = plt.subplots(5,1,sharex=True,figsize = (10,20)) \n",
    "# sharex = True allows zooming to be shared between plots\n",
    "# figsize (width, height)\n",
    "# Apply date formating convention\n",
    "ax[0].xaxis.set_major_formatter(mdates.DateFormatter('%Y-%m-%d %H'))\n",
    "fig.autofmt_xdate()\n",
    "for ind in range(0,len(feed_variables)):\n",
    "    ax[ind].plot(downsample_df.loc[downsample_df.index.month==5,feed_variables[ind]],label=feed_variables[ind],color='blue',alpha=0.2,ls='none',marker='.')\n",
    "    ax[ind].legend()\n"
   ]
  },
  {
   "cell_type": "markdown",
   "metadata": {},
   "source": [
    "## Time-related behaviour: Heat maps"
   ]
  },
  {
   "cell_type": "code",
   "execution_count": null,
   "metadata": {},
   "outputs": [],
   "source": [
    "## Time series plots (continued)\n",
    "# Heatmap of variables over time - scaled\n",
    "fig, ax = plt.subplots(figsize=(10,5))\n",
    "\n",
    "# Scaled values (transposed, for time on x-axis)\n",
    "dfs = downsample_df.loc[downsample_df.index.month==5,feed_variables].apply(zscore).T\n",
    "\n",
    "# Heatmap\n",
    "im = ax.pcolormesh(dfs,cmap='rainbow')\n",
    "\n",
    "# Variable names\n",
    "# - location of midpoints\n",
    "m = len(feed_variables)\n",
    "y_mid_points = np.linspace(0.5,m-0.5,m)\n",
    "ax.set_yticks(y_mid_points)\n",
    "ax.set_yticklabels(feed_variables)\n",
    "ax.set_ylabel('Variable')\n",
    "\n",
    "# Sample indicator\n",
    "ax.set_xlabel('Sample')\n",
    "\n",
    "# Colorbar\n",
    "cbar = plt.colorbar(im)\n",
    "cbar.set_label('Scaled value')"
   ]
  },
  {
   "cell_type": "markdown",
   "metadata": {},
   "source": [
    "## Distribution behaviour: Histograms"
   ]
  },
  {
   "cell_type": "code",
   "execution_count": null,
   "metadata": {},
   "outputs": [],
   "source": [
    "## Add categorical variable that indicates periods\n",
    "df['Period'] = np.nan\n",
    "df.loc[p1start:p1end,'Period'] = 'Period 1'\n",
    "df.loc[p2start:p2end,'Period'] = 'Period 2'\n",
    "df.loc[p3start:p3end,'Period'] = 'Period 3'\n",
    "downsample_df['Period'] = np.nan\n",
    "downsample_df.loc[p1start:p1end,'Period'] = 'Period 1'\n",
    "downsample_df.loc[p2start:p2end,'Period'] = 'Period 2'\n",
    "downsample_df.loc[p3start:p3end,'Period'] = 'Period 3'"
   ]
  },
  {
   "cell_type": "code",
   "execution_count": null,
   "metadata": {},
   "outputs": [],
   "source": [
    "## Histogram (seaborn)\n",
    "sns.histplot(data = downsample_df, x = 'plant.flotation.sump01.amina.flow')"
   ]
  },
  {
   "cell_type": "code",
   "execution_count": null,
   "metadata": {},
   "outputs": [],
   "source": [
    "## Histograms with groups (seaborn)\n",
    "sns.histplot(data=downsample_df,x='plant.flotation.sump01.amina.flow',hue=\"Period\")\n"
   ]
  },
  {
   "cell_type": "code",
   "execution_count": null,
   "metadata": {},
   "outputs": [],
   "source": [
    "# Histogram with groups - time-based (seaborn)\n",
    "sns.displot(\n",
    "    downsample_df, x=\"plant.flotation.sump01.amina.flow\", col=downsample_df.index.month, \n",
    ")"
   ]
  },
  {
   "cell_type": "markdown",
   "metadata": {},
   "source": [
    "## Distribution behaviour: Box plots"
   ]
  },
  {
   "cell_type": "code",
   "execution_count": null,
   "metadata": {},
   "outputs": [],
   "source": [
    "## Box plot (seaborn)\n",
    "fig = plt.figure(figsize=(5,10))\n",
    "sns.boxplot(data=downsample_df,y='plant.flotation.sump01.amina.flow')"
   ]
  },
  {
   "cell_type": "code",
   "execution_count": null,
   "metadata": {},
   "outputs": [],
   "source": [
    "## Box plots per group (seaborn)\n",
    "sns.boxplot(data=downsample_df,y='plant.flotation.sump01.amina.flow',x='Period')\n"
   ]
  },
  {
   "cell_type": "code",
   "execution_count": null,
   "metadata": {},
   "outputs": [],
   "source": [
    "## Box plots per group - horizontal (seaborn)\n",
    "sns.boxplot(data=downsample_df, x='plant.flotation.sump01.amina.flow',y='Period')"
   ]
  },
  {
   "cell_type": "markdown",
   "metadata": {},
   "source": [
    "## Relational behaviour: Scatter plot"
   ]
  },
  {
   "cell_type": "code",
   "execution_count": null,
   "metadata": {},
   "outputs": [],
   "source": [
    "## Scatter plots: Relationship between two variables\n",
    "# jointplot also provides histograms of individual variables\n",
    "sns.jointplot(x=downsample_df['plant.flotation.sump01.amina.flow'],y=downsample_df['plant.flotation.sump01.starch.flow'])\n"
   ]
  },
  {
   "cell_type": "code",
   "execution_count": null,
   "metadata": {},
   "outputs": [],
   "source": [
    "# Scatter plot with hue\n",
    "sns.jointplot(data = downsample_df,x='plant.flotation.sump01.amina.flow',y='plant.flotation.sump01.starch.flow',hue='Period')\n"
   ]
  },
  {
   "cell_type": "code",
   "execution_count": null,
   "metadata": {},
   "outputs": [],
   "source": [
    "# Scatter plot with hue (indicating passage of time)\n",
    "sample_number = downsample_df.index - downsample_df.index[0]\n",
    "sns.scatterplot(\n",
    "    data = downsample_df,\n",
    "    x='plant.flotation.sump01.amina.flow',\n",
    "    y='plant.flotation.sump01.starch.flow',\n",
    "    hue=sample_number.days,\n",
    "    legend=\"brief\", # only gives legend for a few sequential points\n",
    "    palette='Spectral' # see this link for colormap options https://matplotlib.org/stable/users/explain/colors/colormaps.html\n",
    ")\n"
   ]
  },
  {
   "cell_type": "code",
   "execution_count": null,
   "metadata": {},
   "outputs": [],
   "source": [
    "## Scatter plots: Relationship between two variables\n",
    "# A simple regression line can also be estimated and displayed\n",
    "sns.jointplot(data = downsample_df,x='plant.flotation.sump01.amina.flow',y='plant.flotation.sump01.starch.flow',kind='reg')"
   ]
  },
  {
   "cell_type": "markdown",
   "metadata": {},
   "source": [
    "## Relational behaviour: Pair plots"
   ]
  },
  {
   "cell_type": "code",
   "execution_count": null,
   "metadata": {},
   "outputs": [],
   "source": [
    "## Pairplots: Overview of all relationships between pairs of variables (continued)\n",
    "# Kernel density estimate of distribution on diagonal instead\n",
    "# Subset of variables specified with vars\n",
    "sns.pairplot(data=downsample_df,vars=feed_variables,diag_kind='kde',corner=True)\n",
    "plt.tight_layout()"
   ]
  },
  {
   "cell_type": "code",
   "execution_count": null,
   "metadata": {},
   "outputs": [],
   "source": [
    "## Pairplots: Overview of all relationships between pairs of variables (continued)\n",
    "sns.pairplot(downsample_df,vars=feed_variables,hue='Period',corner=True)\n",
    "plt.tight_layout()"
   ]
  },
  {
   "cell_type": "markdown",
   "metadata": {},
   "source": [
    "## Relational behaviour: Correlation plots"
   ]
  },
  {
   "cell_type": "code",
   "execution_count": null,
   "metadata": {},
   "outputs": [],
   "source": [
    "## Correlation plots\n",
    "# Calculate correlations (Pearson correlation)\n",
    "corr = downsample_df[feed_variables].corr()\n",
    "# Round numbers to 2 decimal places, to make it easier to read\n",
    "corr = corr.apply(lambda x: round(x,2))\n",
    "# Generate a mask for the upper triangle (i.e. to remove upper triangle and keep view simple)\n",
    "mask = np.triu(np.ones_like(corr, dtype=np.bool_))\n",
    "# Set up the matplotlib figure\n",
    "f, ax = plt.subplots(figsize=(11, 10))\n",
    "# Draw the heatmap with the mask and correct aspect ratio\n",
    "sns.heatmap(corr,mask=mask, square=True, cmap=plt.cm.bwr,annot=True,vmin=-1,vmax=1)\n",
    "plt.title('Pearson Correlation')\n",
    "plt.tight_layout()"
   ]
  }
 ],
 "metadata": {
  "kernelspec": {
   "display_name": "rbm_dape",
   "language": "python",
   "name": "python3"
  },
  "language_info": {
   "codemirror_mode": {
    "name": "ipython",
    "version": 3
   },
   "file_extension": ".py",
   "mimetype": "text/x-python",
   "name": "python",
   "nbconvert_exporter": "python",
   "pygments_lexer": "ipython3",
   "version": "3.13.2"
  }
 },
 "nbformat": 4,
 "nbformat_minor": 4
}
