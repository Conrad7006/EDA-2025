{
 "cells": [
  {
   "cell_type": "markdown",
   "metadata": {},
   "source": [
    "# Import libraries\n",
    "We will be using various libraries through the course of the workshop. This will test importing the most common libraries."
   ]
  },
  {
   "cell_type": "code",
   "execution_count": null,
   "metadata": {
    "executionInfo": {
     "elapsed": 5,
     "status": "ok",
     "timestamp": 1710876869657,
     "user": {
      "displayName": "Tobi Louw",
      "userId": "12570803192121562615"
     },
     "user_tz": -120
    },
    "id": "koqsfUfUHz8G"
   },
   "outputs": [],
   "source": [
    "import numpy as np\n",
    "import pandas as pd\n",
    "import matplotlib.pyplot as plt\n",
    "import seaborn as sns"
   ]
  },
  {
   "cell_type": "markdown",
   "metadata": {
    "id": "wymYRmM7H5FQ"
   },
   "source": [
    "# Data locations\n",
    "Various data sources will be used throughout the workshop. All the data is hosted on SACAC's Google Drive folder, [here](https://drive.google.com/drive/folders/1YcMv9eZFhopJvv1TjTTH029e5ufIw8c_?usp=sharing). You can download the data directly, or you can read the data directly from Google Drive using `pandas`. We will use the latter approach in all examples.\n",
    "\n",
    "The urls hosting the data are all collected in the following dictionary. Run the cell below to define the dictionary, which you can refer to throughout the workshop."
   ]
  },
  {
   "cell_type": "code",
   "execution_count": null,
   "metadata": {},
   "outputs": [],
   "source": [
    "data_url = {\n",
    "    'iof_data_1min_csv' : \"https://drive.google.com/uc?id=1_jYVXj7mt8Zzpjn8WGI111G-kWRTbfjU\",\n",
    "    'iof_data_1min_parq' : \"https://drive.google.com/uc?id=1j5SS136UzbSPu8TqG9RRUMi6-wWF9dzq\",\n",
    "    'mixingTank' :  \"https://drive.google.com/uc?id=1b5Qn5LIa6KAE03Tq4yRVdhTyUmZLxRjt\",\n",
    "    'moons' : \"https://drive.google.com/uc?id=1a9zTkPEpuHGj6LzGzuLe-JSLg_4GJef4\",\n",
    "    'open_iof_20min' : \"https://drive.google.com/uc?id=15lkhdBfWnjlpgpEx4T2XcRApKr-dmBb0\",\n",
    "    'open_iof_cleaned' : \"https://drive.google.com/uc?id=1WVbJvYsGy-iKlsW4WaDZrKy_NhK2tJLW\",\n",
    "    'test_data' : \"https://drive.google.com/uc?id=1AUJ63mIM2we9k6H6H149YH1mSg83d3H7\"\n",
    "    }"
   ]
  },
  {
   "cell_type": "markdown",
   "metadata": {
    "id": "u3CcWTY8Lnsx"
   },
   "source": [
    "## Test data handling and plotting\n",
    "Load a data file using `pandas` and plot using `seaborne`"
   ]
  },
  {
   "cell_type": "code",
   "execution_count": null,
   "metadata": {
    "colab": {
     "base_uri": "https://localhost:8080/",
     "height": 749
    },
    "executionInfo": {
     "elapsed": 760,
     "status": "ok",
     "timestamp": 1710876873426,
     "user": {
      "displayName": "Tobi Louw",
      "userId": "12570803192121562615"
     },
     "user_tz": -120
    },
    "id": "7CGGRyz1H7x4",
    "outputId": "7c612c46-6e03-446c-b914-38f08eddc6b7"
   },
   "outputs": [],
   "source": [
    "df = pd.read_csv(data_url['test_data'])\n",
    "display(df.describe())\n",
    "sns.scatterplot(data = df, x = 'x1', y = 'x2', alpha = 0.2)"
   ]
  },
  {
   "cell_type": "markdown",
   "metadata": {
    "id": "1AjzWZLXLqH1"
   },
   "source": [
    "## Test popular machine learning library\n",
    "Cluster the data using `KMeans` from [scikit-learn](https://scikit-learn.org/stable/index.html)"
   ]
  },
  {
   "cell_type": "code",
   "execution_count": null,
   "metadata": {
    "colab": {
     "base_uri": "https://localhost:8080/",
     "height": 521
    },
    "executionInfo": {
     "elapsed": 749,
     "status": "ok",
     "timestamp": 1710876874173,
     "user": {
      "displayName": "Tobi Louw",
      "userId": "12570803192121562615"
     },
     "user_tz": -120
    },
    "id": "VukaHqz0I7t5",
    "outputId": "df12bc0c-e881-45d2-8dc9-e48398c02bdc"
   },
   "outputs": [],
   "source": [
    "from sklearn.cluster import KMeans\n",
    "kmeans = KMeans(n_clusters=3)\n",
    "kmeans.fit(df)\n",
    "sns.scatterplot(data = df, x = 'x1', y = 'x2', hue = kmeans.labels_, palette = 'Set1', alpha = 0.5)"
   ]
  },
  {
   "cell_type": "markdown",
   "metadata": {
    "id": "-BpU6QzqMCNf"
   },
   "source": [
    "## Test popular deep learning library\n",
    "Train an autoencoder using [keras](https://keras.io/)"
   ]
  },
  {
   "cell_type": "code",
   "execution_count": null,
   "metadata": {
    "colab": {
     "base_uri": "https://localhost:8080/",
     "height": 1000
    },
    "executionInfo": {
     "elapsed": 58434,
     "status": "ok",
     "timestamp": 1710877283500,
     "user": {
      "displayName": "Tobi Louw",
      "userId": "12570803192121562615"
     },
     "user_tz": -120
    },
    "id": "Zsj4PJxDJqmP",
    "outputId": "1acf16d2-361e-4115-cea0-735125cf797c"
   },
   "outputs": [],
   "source": [
    "from sklearn.preprocessing import StandardScaler\n",
    "import keras\n",
    "\n",
    "Z = StandardScaler().fit_transform(df)\n",
    "aeEncoder = keras.Sequential([\n",
    "    keras.layers.Dropout(0.5),\n",
    "    keras.layers.Dense(16, activation='relu',),\n",
    "    keras.layers.Dense(2, activation='tanh'),\n",
    "])\n",
    "\n",
    "aeDecoder = keras.Sequential([\n",
    "    keras.layers.Dense(16, activation='relu'),\n",
    "    keras.layers.Dense(Z.shape[1])\n",
    "])\n",
    "\n",
    "# Autoencoder (combined model)\n",
    "autoencoder = keras.Sequential([\n",
    "    keras.layers.Input(shape=(Z.shape[1],)),\n",
    "    aeEncoder,\n",
    "    aeDecoder\n",
    "])\n",
    "\n",
    "# Compile the autoencoder\n",
    "autoencoder.compile(optimizer='adam', loss='mean_squared_error')\n",
    "\n",
    "# Train the autoencoder\n",
    "history = autoencoder.fit(Z, Z, epochs=50, batch_size=16)\n",
    "# Plot the training loss\n",
    "plt.plot(history.history['loss'])\n",
    "plt.title('Model loss')\n",
    "plt.ylabel('Loss')\n",
    "plt.xlabel('Epoch')\n",
    "plt.show()\n",
    "\n",
    "Z_reconstructed = autoencoder.predict(Z)\n",
    "plt.scatter(Z_reconstructed[:,0], Z_reconstructed[:,1], alpha = 0.5)"
   ]
  },
  {
   "cell_type": "markdown",
   "metadata": {},
   "source": [
    "# Test UMAP library\n",
    "[UMAP](https://umap-learn.readthedocs.io/en/latest/) is a popular dimensionality reduction library that has seen frequent use recently."
   ]
  },
  {
   "cell_type": "code",
   "execution_count": null,
   "metadata": {},
   "outputs": [],
   "source": [
    "from umap import UMAP\n",
    "umap = UMAP(n_neighbors=5, min_dist=0.1)\n",
    "L = umap.fit_transform(df)\n",
    "plt.scatter(L[:,0], L[:,1], alpha = 0.5)"
   ]
  }
 ],
 "metadata": {
  "colab": {
   "authorship_tag": "ABX9TyPg1z/XtYEO3ARusF3E2e94",
   "provenance": []
  },
  "kernelspec": {
   "display_name": "py3_11",
   "language": "python",
   "name": "python3"
  },
  "language_info": {
   "codemirror_mode": {
    "name": "ipython",
    "version": 3
   },
   "file_extension": ".py",
   "mimetype": "text/x-python",
   "name": "python",
   "nbconvert_exporter": "python",
   "pygments_lexer": "ipython3",
   "version": "3.11.7"
  }
 },
 "nbformat": 4,
 "nbformat_minor": 0
}
