{
 "cells": [
  {
   "cell_type": "markdown",
   "metadata": {},
   "source": [
    "# Data ingest: CSV\n",
    "CSV (comma-separated values) files [(Wikipedia link)](https://en.wikipedia.org/wiki/Comma-separated_values) have a simple, human-readable text format for storing tabular data. Many different proprietary software for data handling and manipulation (e.g., process data historians) provide functionality for exporting data in CSV formats."
   ]
  },
  {
   "cell_type": "markdown",
   "metadata": {},
   "source": [
    "**Dataset used**\n",
    "- iof_data.csv\n",
    "- iof_data.parq"
   ]
  },
  {
   "cell_type": "code",
   "execution_count": null,
   "metadata": {},
   "outputs": [],
   "source": [
    "# Import libraries\n",
    "import pandas as pd                 # pandas for data ingest and data manipulation"
   ]
  },
  {
   "cell_type": "code",
   "execution_count": null,
   "metadata": {},
   "outputs": [],
   "source": [
    "# Data links\n",
    "data_url = {\n",
    "    'iof_data_1min_csv' : \"https://drive.google.com/uc?id=1_jYVXj7mt8Zzpjn8WGI111G-kWRTbfjU\",\n",
    "    'iof_data_1min_parq' : \"https://drive.google.com/uc?id=1j5SS136UzbSPu8TqG9RRUMi6-wWF9dzq\",\n",
    "    'mixingTank' :  \"https://drive.google.com/uc?id=1b5Qn5LIa6KAE03Tq4yRVdhTyUmZLxRjt\",\n",
    "    'moons' : \"https://drive.google.com/uc?id=1a9zTkPEpuHGj6LzGzuLe-JSLg_4GJef4\",\n",
    "    'open_iof_20min' : \"https://drive.google.com/uc?id=15lkhdBfWnjlpgpEx4T2XcRApKr-dmBb0\",\n",
    "    'open_iof_cleaned' : \"https://drive.google.com/uc?id=1WVbJvYsGy-iKlsW4WaDZrKy_NhK2tJLW\",\n",
    "}"
   ]
  },
  {
   "cell_type": "code",
   "execution_count": null,
   "metadata": {},
   "outputs": [],
   "source": [
    "# Reading data (no additional specification)\n",
    "fileName = data_url['iof_data_1min_csv']\n",
    "df = pd.read_csv(fileName)"
   ]
  },
  {
   "cell_type": "code",
   "execution_count": null,
   "metadata": {},
   "outputs": [],
   "source": [
    "# Look at DataFrame contents\n",
    "df"
   ]
  },
  {
   "cell_type": "code",
   "execution_count": null,
   "metadata": {},
   "outputs": [],
   "source": [
    "# Look at one column of DataFrame (a Series)\n",
    "df[\"plant.feed.iron.comp\"]"
   ]
  },
  {
   "cell_type": "code",
   "execution_count": null,
   "metadata": {},
   "outputs": [],
   "source": [
    "# Look at one column of DataFrame (a Series)\n",
    "df.date"
   ]
  },
  {
   "cell_type": "code",
   "execution_count": null,
   "metadata": {},
   "outputs": [],
   "source": [
    "# Reading data (specify index column, parsing dates with defaults)\n",
    "dateColumn = 'date'\n",
    "df = pd.read_csv(fileName, index_col=dateColumn, parse_dates=[dateColumn])"
   ]
  },
  {
   "cell_type": "code",
   "execution_count": null,
   "metadata": {},
   "outputs": [],
   "source": [
    "# Look at DataFrame contents\n",
    "df"
   ]
  },
  {
   "cell_type": "code",
   "execution_count": null,
   "metadata": {},
   "outputs": [],
   "source": [
    "# ATTRIBUTE: Data types in columns\n",
    "df.dtypes"
   ]
  },
  {
   "cell_type": "code",
   "execution_count": null,
   "metadata": {},
   "outputs": [],
   "source": [
    "# ATTRIBUTE: Column names\n",
    "df.columns"
   ]
  },
  {
   "cell_type": "code",
   "execution_count": null,
   "metadata": {},
   "outputs": [],
   "source": [
    "# ATTRIBUTE: Shape (of a DataFrame)\n",
    "df.shape"
   ]
  },
  {
   "cell_type": "code",
   "execution_count": null,
   "metadata": {},
   "outputs": [],
   "source": [
    "# ATTRIBUTE: Shape (of a Series)\n",
    "df[\"plant.flotation.sump01.starch.flow\"].shape"
   ]
  },
  {
   "cell_type": "code",
   "execution_count": null,
   "metadata": {},
   "outputs": [],
   "source": [
    "# METHOD: Inspect first few rows\n",
    "df.head()"
   ]
  },
  {
   "cell_type": "code",
   "execution_count": null,
   "metadata": {},
   "outputs": [],
   "source": [
    "# METHOD: Get basic information\n",
    "df.info()"
   ]
  },
  {
   "cell_type": "code",
   "execution_count": null,
   "metadata": {},
   "outputs": [],
   "source": [
    "# METHOD: Get summary statistics (default is for continuous variables)\n",
    "df.describe().T"
   ]
  },
  {
   "cell_type": "code",
   "execution_count": null,
   "metadata": {},
   "outputs": [],
   "source": [
    "# Inspect specific entries using .loc (named row and named column)\n",
    "rowOfInterest = '2017-03-11 01:02:00'\n",
    "columnOfInterest = 'plant.flotation.sump01.amina.flow'\n",
    "df.loc[rowOfInterest,columnOfInterest]"
   ]
  },
  {
   "cell_type": "code",
   "execution_count": null,
   "metadata": {},
   "outputs": [],
   "source": [
    "# Inspect specific entries using .iloc (row and column position number)\n",
    "# Remember, start counting at 0\n",
    "rowOfInterest = 13\n",
    "columnOfInterest = 3\n",
    "df.iloc[rowOfInterest,columnOfInterest]"
   ]
  },
  {
   "cell_type": "code",
   "execution_count": null,
   "metadata": {},
   "outputs": [],
   "source": [
    "# Multiple rows and columns: .loc\n",
    "rowsOfInterestStart = '2017/03/11 01:29:00'\n",
    "rowsOfInterestEnd = '2017/03/11 01:31:00'\n",
    "columnsOfInterest = ['plant.flotation.sump01.amina.flow','plant.flotation.sump01.discharge.flow']\n",
    "df.loc[rowsOfInterestStart:rowsOfInterestEnd,columnsOfInterest]"
   ]
  },
  {
   "cell_type": "code",
   "execution_count": null,
   "metadata": {},
   "outputs": [],
   "source": [
    "# Multiple rows and columns: .iloc\n",
    "# Remember, last item in range is not included\n",
    "df.iloc[81:88,3:5]"
   ]
  },
  {
   "cell_type": "code",
   "execution_count": null,
   "metadata": {},
   "outputs": [],
   "source": [
    "# Multiple rows and columns: .loc with conditional rows\n",
    "df.loc[df[\"plant.flotation.sump01.starch.flow\"]>3800,:]"
   ]
  },
  {
   "cell_type": "code",
   "execution_count": null,
   "metadata": {},
   "outputs": [],
   "source": [
    "# Multiple rows and columns: .loc with conditional rows, specified columns\n",
    "df.loc[df[\"plant.flotation.sump01.starch.flow\"]>3800,[\"plant.flotation.sump01.starch.flow\",\"plant.flotation.sump01.amina.flow\"]]"
   ]
  },
  {
   "cell_type": "code",
   "execution_count": null,
   "metadata": {},
   "outputs": [],
   "source": [
    "# Create new data frame with selection and slicing\n",
    "df_subset = df.loc[df[\"plant.flotation.sump01.starch.flow\"]>3800,[\"plant.flotation.sump01.starch.flow\",\"plant.flotation.sump01.amina.flow\"]]\n",
    "df_subset.describe().T"
   ]
  },
  {
   "cell_type": "code",
   "execution_count": null,
   "metadata": {},
   "outputs": [],
   "source": [
    "# Reading data (specify number of rows, specify specific columns)\n",
    "dateColumn = 'date'\n",
    "numberOfRows = 10\n",
    "myColumns = ['date','plant.feed.iron.comp','plant.flotation.sump01.discharge.ph']\n",
    "df = pd.read_csv(fileName, index_col=dateColumn, parse_dates=[dateColumn], nrows=numberOfRows, usecols=myColumns)"
   ]
  },
  {
   "cell_type": "code",
   "execution_count": null,
   "metadata": {},
   "outputs": [],
   "source": [
    "# Inspect data frame\n",
    "df"
   ]
  },
  {
   "cell_type": "code",
   "execution_count": null,
   "metadata": {},
   "outputs": [],
   "source": [
    "# Reading data (larger subset)\n",
    "dateColumn = 'date'\n",
    "numberOfRows = 10000\n",
    "df = pd.read_csv(fileName, index_col=dateColumn, parse_dates=[dateColumn])"
   ]
  },
  {
   "cell_type": "code",
   "execution_count": null,
   "metadata": {},
   "outputs": [],
   "source": [
    "# Simple plotting: One variable, against index\n",
    "df['plant.flotation.sump01.amina.flow'].plot()"
   ]
  },
  {
   "cell_type": "code",
   "execution_count": null,
   "metadata": {},
   "outputs": [],
   "source": [
    "# Simple plotting: One variable, box plot\n",
    "df['plant.flotation.sump01.amina.flow'].plot.box()"
   ]
  },
  {
   "cell_type": "markdown",
   "metadata": {},
   "source": [
    "# Data ingest: Parquet files\n",
    "Parquet files [(Wikipedia link)](https://en.wikipedia.org/wiki/Apache_Parquet) is a data storage format which provides efficient data compression."
   ]
  },
  {
   "cell_type": "code",
   "execution_count": null,
   "metadata": {},
   "outputs": [],
   "source": [
    "# Reading data\n",
    "fileName = data_url['iof_data_1min_parq']\n",
    "df = pd.read_parquet(fileName)"
   ]
  },
  {
   "cell_type": "code",
   "execution_count": null,
   "metadata": {},
   "outputs": [],
   "source": [
    "# Look at DataFrame contents\n",
    "df"
   ]
  }
 ],
 "metadata": {
  "kernelspec": {
   "display_name": "rbm_dape",
   "language": "python",
   "name": "python3"
  },
  "language_info": {
   "codemirror_mode": {
    "name": "ipython",
    "version": 3
   },
   "file_extension": ".py",
   "mimetype": "text/x-python",
   "name": "python",
   "nbconvert_exporter": "python",
   "pygments_lexer": "ipython3",
   "version": "3.13.2"
  }
 },
 "nbformat": 4,
 "nbformat_minor": 2
}
